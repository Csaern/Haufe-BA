{
 "cells": [
  {
   "cell_type": "code",
   "execution_count": null,
   "id": "f46542fc-c86d-42dc-9617-af074a47354f",
   "metadata": {
    "scrolled": true
   },
   "outputs": [],
   "source": [
    "pip install sentence_transformers torch"
   ]
  },
  {
   "cell_type": "code",
   "execution_count": null,
   "id": "2b3b85fb-8d2e-4c5a-b150-cb88b98de4ed",
   "metadata": {},
   "outputs": [],
   "source": [
    "from sentence_transformers import SentenceTransformer\n",
    "import numpy as np\n",
    "import pandas as pd\n",
    "from sklearn.metrics.pairwise import cosine_similarity\n",
    "from sklearn.metrics import ndcg_score\n",
    "import torch\n",
    "import os\n",
    "import tqdm\n",
    "import time\n",
    "import pickle\n",
    "from torch.utils.data import DataLoader, Dataset\n",
    "import multiprocessing as mp\n",
    "from sklearn.preprocessing import normalize\n",
    "import gc"
   ]
  },
  {
   "cell_type": "code",
   "execution_count": null,
   "id": "563d6ae4-fc94-4024-be95-b7309191a908",
   "metadata": {},
   "outputs": [],
   "source": [
    "\"\"\"\n",
    "Load Datasets, only need Test data for metric evaluation\n",
    "\"\"\"\n",
    "df_collection = pd.read_csv(\"Data/collection.tsv\", sep=\"\\t\", names=[\"doc_id\", \"passage\"], on_bad_lines=\"skip\")\n",
    "df_queries = pd.read_csv(\"Data/queries.test.tsv\", sep=\"\\t\", names=[\"query_id\", \"query\"], on_bad_lines=\"skip\")\n",
    "df_qrels = pd.read_csv(\"Data/qrels.test.tsv\", sep=\"\\t\", names=[\"query_id\", \"doc_id\"])"
   ]
  },
  {
   "cell_type": "code",
   "execution_count": null,
   "id": "f84c2153-1858-4e11-a5b5-8c3b488acbad",
   "metadata": {},
   "outputs": [],
   "source": [
    "\"\"\"\n",
    "Choose model for embedding\n",
    "Basemodel: mixedbread-ai/deepset-mxbai-embed-de-large-v1\n",
    "Mxbai/finetuning_v21/model_finetuned\n",
    "\"\"\"\n",
    "model = SentenceTransformer(\"mixedbread-ai/deepset-mxbai-embed-de-large-v1\", device=\"cuda\")"
   ]
  },
  {
   "cell_type": "code",
   "execution_count": null,
   "id": "9b24ed5e-a42b-4475-a347-821856d069ea",
   "metadata": {},
   "outputs": [],
   "source": [
    "\"\"\"\n",
    "For multiprocessing\n",
    "\"\"\"\n",
    "pool = model.start_multi_process_pool()"
   ]
  },
  {
   "cell_type": "code",
   "execution_count": null,
   "id": "4dc928e9-cb9a-44e1-a5d4-0848b3c7c5af",
   "metadata": {},
   "outputs": [],
   "source": [
    "relevant_doc_ids = set(df_qrels['doc_id'].unique())\n",
    "\n",
    "print(len(relevant_doc_ids))"
   ]
  },
  {
   "cell_type": "code",
   "execution_count": null,
   "id": "bc088658-2485-4154-8e17-fd4e802e1a10",
   "metadata": {},
   "outputs": [],
   "source": [
    "df_collection_filtered = df_collection[df_collection['doc_id'].isin(relevant_doc_ids)]\n",
    "df_collection_filtered = df_collection_filtered.reset_index(drop=True)\n",
    "\n",
    "print(len(df_collection_filtered))"
   ]
  },
  {
   "cell_type": "code",
   "execution_count": null,
   "id": "c15ba036-bf20-4948-86e1-e32601d5ab63",
   "metadata": {},
   "outputs": [],
   "source": [
    "\"\"\"\n",
    "Method to calculate embeddings with multiple GPUS\n",
    "-------\n",
    "with one GPU use model.encode() , without pool and batchsize\n",
    "\"\"\"\n",
    "batch_size = 256\n",
    "print(\"Start normalized embeddings\")\n",
    "#corpus_embeddings = model.encode_multi_process(df_collection[\"passage\"], pool, batch_size=batch_size, show_progress_bar=True, normalize_embeddings=True)\n",
    "corpus_embeddings = model.encode(df_collection_filtered[\"passage\"], batch_size=batch_size show_progress_bar=True, normalize_embeddings=True)"
   ]
  },
  {
   "cell_type": "code",
   "execution_count": null,
   "id": "8c662b6c-f9e0-44c9-9cf2-17d7724ae809",
   "metadata": {},
   "outputs": [],
   "source": [
    "# Data Structure for Embedding Data\n",
    "passage_to_doc_id = dict(enumerate(df_collection_filtered['doc_id']))\n",
    "embedding_data = {'doc_ids': passage_to_doc_id, 'embeddings': corpus_embeddings}"
   ]
  },
  {
   "cell_type": "code",
   "execution_count": null,
   "id": "4701076e-f46a-4190-80c4-757bfbba7d98",
   "metadata": {},
   "outputs": [],
   "source": [
    "\"\"\"\n",
    "Save passage embeddings to pickle\n",
    "\"\"\"\n",
    "with open('Data/models/mxbai/embedding_passages_only_test_v2.pkl', 'wb') as file:\n",
    "    pickle.dump(embedding_data, file)"
   ]
  },
  {
   "cell_type": "code",
   "execution_count": null,
   "id": "01cc4bba-d948-46ea-8870-016450e4e7cd",
   "metadata": {},
   "outputs": [],
   "source": [
    "\"\"\"\n",
    "Load Finetuned Model\n",
    "\"\"\"\n",
    "\n",
    "model_v1 = SentenceTransformer(\"Mxbai/finetuning_v21/model_finetuned\", device=\"cuda\")"
   ]
  },
  {
   "cell_type": "code",
   "execution_count": null,
   "id": "be4fff86-983e-41b2-a884-ac6e96416b49",
   "metadata": {},
   "outputs": [],
   "source": [
    "\"\"\"\n",
    "Method to calculate embeddings with multiple GPUS\n",
    "-------\n",
    "with one GPU use model.encode() , without pool\n",
    "\"\"\"\n",
    "batch_size = 256\n",
    "print(\"Start normalized embeddings\")\n",
    "start = time.time()\n",
    "#corpus_embeddings = model.encode_multi_process(df_collection[\"passage\"], pool, batch_size=batch_size, show_progress_bar=True, normalize_embeddings=True)\n",
    "corpus_embeddings = model_v1.encode(df_collection_filtered[\"passage\"], batch_size=batch_size, show_progress_bar=True, normalize_embeddings=True)"
   ]
  },
  {
   "cell_type": "code",
   "execution_count": null,
   "id": "6dd27043-3368-4712-917e-220701d5063b",
   "metadata": {},
   "outputs": [],
   "source": [
    "# Data Structure for Embedding Data\n",
    "passage_to_doc_id = dict(enumerate(df_collection_filtered['doc_id']))\n",
    "embedding_data = {'doc_ids': passage_to_doc_id, 'embeddings': corpus_embeddings}"
   ]
  },
  {
   "cell_type": "code",
   "execution_count": null,
   "id": "8e83dcaa-bcf7-41e5-88a5-0cbfcbe2c6fe",
   "metadata": {},
   "outputs": [],
   "source": [
    "\"\"\"\n",
    "Save passage embeddings to pickle\n",
    "\"\"\"\n",
    "with open('Data/models/mxbai/embedding_passages_only_test_v3.pkl', 'wb') as file:\n",
    "    pickle.dump(embedding_data, file)"
   ]
  },
  {
   "cell_type": "code",
   "execution_count": null,
   "id": "3f321215-8af3-4f5e-8961-ececd7bb0cc0",
   "metadata": {},
   "outputs": [],
   "source": [
    "\"\"\"\n",
    "Method to calculate query embeddings with multiple GPUS\n",
    "-------\n",
    "with one GPU use model.encode() , without pool and batchsize\n",
    "\"\"\"\n",
    "batch_size=256\n",
    "print(\"Start normalized embeddings\")\n",
    "\n",
    "\n",
    "#query_embeddings = model.encode_multi_process(df_queries[\"query\"], pool, batch_size=batch_size, show_progress_bar=True, normalize_embeddings=True)\n",
    "\n",
    "query_embeddings = model_v1.encode(df_queries[\"query\"], batch_size=batch_size, show_progress_bar=True, normalize_embeddings=True)"
   ]
  },
  {
   "cell_type": "code",
   "execution_count": null,
   "id": "4b3b5d73-38b2-4182-a6d8-4e6f78707d23",
   "metadata": {},
   "outputs": [],
   "source": [
    "# Data Structure for Query Embedding Data\n",
    "query_id_dict = dict(enumerate(df_queries['query_id']))\n",
    "query_data = {'query_ids': query_id_dict, 'embeddings': query_embeddings}"
   ]
  },
  {
   "cell_type": "code",
   "execution_count": null,
   "id": "14f45e61-d64d-4273-b3cd-3ddf9c8840bb",
   "metadata": {},
   "outputs": [],
   "source": [
    "\"\"\"\n",
    "Save query embeddings to pickle\n",
    "\"\"\"\n",
    "with open('Data/models/mxbai/query_embeddings_test_v3.pkl', 'wb') as file:\n",
    "    pickle.dump(query_data, file)"
   ]
  },
  {
   "cell_type": "code",
   "execution_count": null,
   "id": "951952b9-7898-4263-bfdb-b6c9c6fc724d",
   "metadata": {},
   "outputs": [],
   "source": [
    "model.stop_multi_process_pool(pool)"
   ]
  },
  {
   "cell_type": "code",
   "execution_count": null,
   "id": "a4de9a2a-1391-43ae-9743-83e4f3630f1c",
   "metadata": {},
   "outputs": [],
   "source": []
  }
 ],
 "metadata": {
  "kernelspec": {
   "display_name": "conda_python3",
   "language": "python",
   "name": "conda_python3"
  },
  "language_info": {
   "codemirror_mode": {
    "name": "ipython",
    "version": 3
   },
   "file_extension": ".py",
   "mimetype": "text/x-python",
   "name": "python",
   "nbconvert_exporter": "python",
   "pygments_lexer": "ipython3",
   "version": "3.10.16"
  }
 },
 "nbformat": 4,
 "nbformat_minor": 5
}
